{
 "cells": [
  {
   "cell_type": "code",
   "execution_count": 1,
   "metadata": {},
   "outputs": [],
   "source": [
    "import os\n",
    "\n",
    "import numpy as np\n",
    "import matplotlib.pyplot as plt\n",
    "import seaborn as sns\n",
    "import pandas as pd\n",
    "\n",
    "import torch\n",
    "from torchvision import datasets\n",
    "import torchvision.transforms as transforms\n",
    "from model import Net\n",
    "from sklearn import metrics\n",
    "\n",
    "import utils"
   ]
  },
  {
   "cell_type": "code",
   "execution_count": 2,
   "metadata": {},
   "outputs": [],
   "source": [
    "# Values can be \"Validation\" or \"Test\"\n",
    "split_to_evaluate = \"Validation\" "
   ]
  },
  {
   "cell_type": "markdown",
   "metadata": {},
   "source": [
    "# Loading the model"
   ]
  },
  {
   "cell_type": "code",
   "execution_count": 3,
   "metadata": {},
   "outputs": [
    {
     "name": "stdout",
     "output_type": "stream",
     "text": [
      "Loading model from models/model.pt ...\n",
      "Model loaded!\n",
      "Net(\n",
      "  (conv1): Conv2d(3, 32, kernel_size=(3, 3), stride=(1, 1), padding=(1, 1))\n",
      "  (conv2): Conv2d(32, 32, kernel_size=(3, 3), stride=(1, 1), padding=(1, 1))\n",
      "  (conv3): Conv2d(32, 64, kernel_size=(3, 3), stride=(1, 1), padding=(1, 1))\n",
      "  (conv4): Conv2d(64, 64, kernel_size=(3, 3), stride=(1, 1), padding=(1, 1))\n",
      "  (pool): MaxPool2d(kernel_size=2, stride=2, padding=0, dilation=1, ceil_mode=False)\n",
      "  (fc1): Linear(in_features=16384, out_features=2048, bias=True)\n",
      "  (fc2): Linear(in_features=2048, out_features=512, bias=True)\n",
      "  (fc3): Linear(in_features=512, out_features=7, bias=True)\n",
      "  (dropout20): Dropout(p=0.2, inplace=False)\n",
      ")\n",
      "Model trained until epoch 49 with learning rate 0.000100 and batch_size 128\n",
      "Training Loss: 0.962436      \tValidation Loss: 1.340161\n",
      "Training Accuracy: 65.01%\tValidation Accuracy: 49.15%\n",
      "Training Precision: 67.18%\tValidation Precision: 52.74%\n",
      "Training Recall: 66.30%\t\tValidation Recall: 50.12%\n"
     ]
    }
   ],
   "source": [
    "model, labels_map, _ = utils.load_model(\"models/model.pt\")"
   ]
  },
  {
   "cell_type": "markdown",
   "metadata": {},
   "source": [
    "# Loading dataset data"
   ]
  },
  {
   "cell_type": "code",
   "execution_count": 4,
   "metadata": {},
   "outputs": [],
   "source": [
    "if(split_to_evaluate == \"Validation\"):\n",
    "    dataset_dir = \"dataset/valid\"\n",
    "else:\n",
    "    dataset_dir = \"dataset/test\"\n",
    "num_workers = 0\n",
    "batch_size = 128"
   ]
  },
  {
   "cell_type": "code",
   "execution_count": 5,
   "metadata": {},
   "outputs": [],
   "source": [
    "data = datasets.ImageFolder(dataset_dir, transform=model.transform)\n",
    "\n",
    "loader = torch.utils.data.DataLoader(data, batch_size=batch_size, num_workers=num_workers)"
   ]
  },
  {
   "cell_type": "markdown",
   "metadata": {},
   "source": [
    "# Model Metrics"
   ]
  },
  {
   "cell_type": "code",
   "execution_count": 6,
   "metadata": {},
   "outputs": [],
   "source": [
    "y_true, y_pred = utils.getModelPredicitons(model, loader)"
   ]
  },
  {
   "cell_type": "code",
   "execution_count": 7,
   "metadata": {},
   "outputs": [
    {
     "data": {
      "text/plain": [
       "set()"
      ]
     },
     "execution_count": 7,
     "metadata": {},
     "output_type": "execute_result"
    }
   ],
   "source": [
    "set(y_true) - set(y_pred)"
   ]
  },
  {
   "cell_type": "markdown",
   "metadata": {},
   "source": [
    "## Metrics for all classes"
   ]
  },
  {
   "cell_type": "code",
   "execution_count": 8,
   "metadata": {},
   "outputs": [
    {
     "name": "stdout",
     "output_type": "stream",
     "text": [
      "Validation Accuracy:  49.15%\n",
      "Validation Precision: 52.74%\n",
      "Validation Recall:    50.12%\n",
      "Validation F1 Score:  50.58%\n"
     ]
    }
   ],
   "source": [
    "total_accuracy = metrics.accuracy_score(y_true, y_pred) * 100.0\n",
    "total_precision = metrics.precision_score(y_true, y_pred, average='macro') * 100.0\n",
    "total_recall = metrics.recall_score(y_true, y_pred, average='macro') * 100.0\n",
    "total_f1_score = metrics.f1_score(y_true, y_pred, average='macro') * 100.0\n",
    "\n",
    "print(split_to_evaluate + \" Accuracy:  %.2f%%\" % (total_accuracy))\n",
    "print(split_to_evaluate + \" Precision: %.2f%%\" % (total_precision))\n",
    "print(split_to_evaluate + \" Recall:    %.2f%%\" % (total_recall))\n",
    "print(split_to_evaluate + \" F1 Score:  %.2f%%\" % (total_f1_score))"
   ]
  },
  {
   "cell_type": "markdown",
   "metadata": {},
   "source": [
    "# Metrics for each class"
   ]
  },
  {
   "cell_type": "code",
   "execution_count": 9,
   "metadata": {},
   "outputs": [],
   "source": [
    "accuracy, class_correct, class_total = utils.getAccuracyPerClass(model, loader, num_classes=7)\n",
    "precision = metrics.precision_score(y_true, y_pred, average=None) * 100.0\n",
    "recall    = metrics.recall_score(y_true, y_pred, average=None) * 100.0\n",
    "f1_score  = metrics.f1_score(y_true, y_pred, average=None) * 100.0\n",
    "\n",
    "# Append total\n",
    "accuracy  = np.append(accuracy, total_accuracy)\n",
    "precision = np.append(precision, total_precision)\n",
    "recall    = np.append(recall, total_recall)\n",
    "f1_score  = np.append(f1_score, total_f1_score)"
   ]
  },
  {
   "cell_type": "code",
   "execution_count": 10,
   "metadata": {},
   "outputs": [
    {
     "name": "stdout",
     "output_type": "stream",
     "text": [
      "Validation accuracy of bicycle      38.78% (19/49)\n",
      "Validation accuracy of bus          61.54% (24/39)\n",
      "Validation accuracy of car          39.78% (37/93)\n",
      "Validation accuracy of motorcycle   62.77% (59/94)\n",
      "Validation accuracy of pickuptruck  68.00% (34/50)\n",
      "Validation accuracy of truck        39.29% (33/84)\n",
      "Validation accuracy of van          40.68% (24/59)\n"
     ]
    }
   ],
   "source": [
    "utils.printAccuracyPerClass(class_correct, class_total, labels_map, split_name=split_to_evaluate)"
   ]
  },
  {
   "cell_type": "code",
   "execution_count": 11,
   "metadata": {},
   "outputs": [
    {
     "data": {
      "image/png": "[encoded data removed]",
      "text/plain": [
       "<Figure size 1080x792 with 2 Axes>"
      ]
     },
     "metadata": {
      "needs_background": "light"
     },
     "output_type": "display_data"
    }
   ],
   "source": [
    "confusion_matrix = metrics.confusion_matrix(y_true, y_pred)\n",
    "utils.plotConfusionMatrix(confusion_matrix, labels_map)"
   ]
  },
  {
   "cell_type": "code",
   "execution_count": 12,
   "metadata": {},
   "outputs": [
    {
     "data": {
      "text/html": [
       "<div>\n",
       "<style scoped>\n",
       "    .dataframe tbody tr th:only-of-type {\n",
       "        vertical-align: middle;\n",
       "    }\n",
       "\n",
       "    .dataframe tbody tr th {\n",
       "        vertical-align: top;\n",
       "    }\n",
       "\n",
       "    .dataframe thead th {\n",
       "        text-align: right;\n",
       "    }\n",
       "</style>\n",
       "<table border=\"1\" class=\"dataframe\">\n",
       "  <thead>\n",
       "    <tr style=\"text-align: right;\">\n",
       "      <th></th>\n",
       "      <th>Accuracy</th>\n",
       "      <th>Precision</th>\n",
       "      <th>Recall</th>\n",
       "      <th>F1-Score</th>\n",
       "    </tr>\n",
       "  </thead>\n",
       "  <tbody>\n",
       "    <tr>\n",
       "      <td>bicycle</td>\n",
       "      <td>38.78%</td>\n",
       "      <td>67.86%</td>\n",
       "      <td>38.78%</td>\n",
       "      <td>49.35%</td>\n",
       "    </tr>\n",
       "    <tr>\n",
       "      <td>bus</td>\n",
       "      <td>61.54%</td>\n",
       "      <td>64.86%</td>\n",
       "      <td>61.54%</td>\n",
       "      <td>63.16%</td>\n",
       "    </tr>\n",
       "    <tr>\n",
       "      <td>car</td>\n",
       "      <td>39.78%</td>\n",
       "      <td>43.53%</td>\n",
       "      <td>39.78%</td>\n",
       "      <td>41.57%</td>\n",
       "    </tr>\n",
       "    <tr>\n",
       "      <td>motorcycle</td>\n",
       "      <td>62.77%</td>\n",
       "      <td>45.38%</td>\n",
       "      <td>62.77%</td>\n",
       "      <td>52.68%</td>\n",
       "    </tr>\n",
       "    <tr>\n",
       "      <td>pickuptruck</td>\n",
       "      <td>68.00%</td>\n",
       "      <td>59.65%</td>\n",
       "      <td>68.00%</td>\n",
       "      <td>63.55%</td>\n",
       "    </tr>\n",
       "    <tr>\n",
       "      <td>truck</td>\n",
       "      <td>39.29%</td>\n",
       "      <td>41.77%</td>\n",
       "      <td>39.29%</td>\n",
       "      <td>40.49%</td>\n",
       "    </tr>\n",
       "    <tr>\n",
       "      <td>van</td>\n",
       "      <td>40.68%</td>\n",
       "      <td>46.15%</td>\n",
       "      <td>40.68%</td>\n",
       "      <td>43.24%</td>\n",
       "    </tr>\n",
       "    <tr>\n",
       "      <td>Average</td>\n",
       "      <td>49.15%</td>\n",
       "      <td>52.74%</td>\n",
       "      <td>50.12%</td>\n",
       "      <td>50.58%</td>\n",
       "    </tr>\n",
       "  </tbody>\n",
       "</table>\n",
       "</div>"
      ],
      "text/plain": [
       "            Accuracy Precision  Recall F1-Score\n",
       "bicycle       38.78%    67.86%  38.78%   49.35%\n",
       "bus           61.54%    64.86%  61.54%   63.16%\n",
       "car           39.78%    43.53%  39.78%   41.57%\n",
       "motorcycle    62.77%    45.38%  62.77%   52.68%\n",
       "pickuptruck   68.00%    59.65%  68.00%   63.55%\n",
       "truck         39.29%    41.77%  39.29%   40.49%\n",
       "van           40.68%    46.15%  40.68%   43.24%\n",
       "Average       49.15%    52.74%  50.12%   50.58%"
      ]
     },
     "metadata": {},
     "output_type": "display_data"
    }
   ],
   "source": [
    "metrics = utils.getMetricsDataframe(accuracy, precision, recall, f1_score, labels_map)\n",
    "display(metrics)"
   ]
  },
  {
   "cell_type": "code",
   "execution_count": null,
   "metadata": {},
   "outputs": [],
   "source": []
  }
 ],
 "metadata": {
  "kernelspec": {
   "display_name": "Python [conda env:vehicle-classification] *",
   "language": "python",
   "name": "conda-env-vehicle-classification-py"
  },
  "language_info": {
   "codemirror_mode": {
    "name": "ipython",
    "version": 3
   },
   "file_extension": ".py",
   "mimetype": "text/x-python",
   "name": "python",
   "nbconvert_exporter": "python",
   "pygments_lexer": "ipython3",
   "version": "3.6.9"
  }
 },
 "nbformat": 4,
 "nbformat_minor": 2
}
